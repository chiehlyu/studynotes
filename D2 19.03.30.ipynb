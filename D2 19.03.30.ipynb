{
 "cells": [
  {
   "cell_type": "markdown",
   "metadata": {},
   "source": [
    "# D2 19.03.30\n",
    "- 学习其余数字类型\n",
    "- 学习算数运算符"
   ]
  },
  {
   "cell_type": "markdown",
   "metadata": {},
   "source": [
    "## 浮点数\n",
    "- 通常意义的小数\n",
    "  - 3.14\n",
    "  - 3. \n",
    "  - 0.4\n",
    "  - .4\n",
    "- 科学计数法\n",
    "  - e后面跟整数，表示10的指数\n",
    "  - 1.84e2 == 184"
   ]
  },
  {
   "cell_type": "code",
   "execution_count": 2,
   "metadata": {},
   "outputs": [
    {
     "name": "stdout",
     "output_type": "stream",
     "text": [
      "184.0\n",
      "0.0184\n"
     ]
    }
   ],
   "source": [
    "s1 = 1.84e2\n",
    "print(s1)\n",
    "\n",
    "s2 = 1.84e-2\n",
    "print(s2)"
   ]
  },
  {
   "cell_type": "markdown",
   "metadata": {},
   "source": [
    "## 复数 complex\n",
    "- 虚部用j/J表示\n",
    "  - 5+4j\n",
    "  - 4j    实部为0\n",
    "  - (4j)  实部为0"
   ]
  },
  {
   "cell_type": "markdown",
   "metadata": {},
   "source": [
    "## 布尔值\n",
    "- 用来表示真假的值，只有两个值，True/False\n",
    "- python中，布尔值可以当做数字使用\n",
    "  - True = 1, False = 0\n",
    "  - 若用数字表示布尔值，则 0 = False, 其他数字都表示True,包括负数"
   ]
  },
  {
   "cell_type": "code",
   "execution_count": 5,
   "metadata": {},
   "outputs": [
    {
     "name": "stdout",
     "output_type": "stream",
     "text": [
      "2 1\n"
     ]
    }
   ],
   "source": [
    "s1 = 1 + True\n",
    "s2 = 1 + False\n",
    "print(s1, s2)"
   ]
  },
  {
   "cell_type": "markdown",
   "metadata": {},
   "source": [
    "## 字符串\n",
    "- 表达文字信息，“你好”\n",
    "- 形式上用引号引起来的内容，都是字符串\n",
    "- 单双引号含义相同\n",
    "- 三引号用于引用多行内容"
   ]
  },
  {
   "cell_type": "code",
   "execution_count": 6,
   "metadata": {},
   "outputs": [
    {
     "name": "stdout",
     "output_type": "stream",
     "text": [
      "\n",
      "你好\n",
      "初学者\n",
      "\n"
     ]
    }
   ],
   "source": [
    "s1 = '''\n",
    "你好\n",
    "初学者\n",
    "'''\n",
    "print(s1)"
   ]
  },
  {
   "cell_type": "markdown",
   "metadata": {},
   "source": [
    "## None\n",
    "- 表示没有，通常表示占位\n",
    "- 返回，表示返回一个空"
   ]
  },
  {
   "cell_type": "markdown",
   "metadata": {},
   "source": [
    "# 运算符\n",
    "- 算数运算符\n",
    "- 比较运算符（关系运算符）\n",
    "- 逻辑运算符（与或非）\n",
    "- 位运算（二进制）\n",
    "- 成员运算符\n",
    "- 身份运算符"
   ]
  },
  {
   "cell_type": "markdown",
   "metadata": {},
   "source": [
    "### 算数运算符\n",
    "- 加减乘除\n",
    "- Python没有自增/自减运算符"
   ]
  },
  {
   "cell_type": "code",
   "execution_count": 13,
   "metadata": {},
   "outputs": [
    {
     "name": "stdout",
     "output_type": "stream",
     "text": [
      "2.5\n",
      "2\n",
      "1\n",
      "-3\n"
     ]
    }
   ],
   "source": [
    "#除分为，通常除法、地板除（整除）、取余\n",
    "a = 5 / 2\n",
    "print(a)\n",
    "b = 5 // 2 #地板除，//为整除\n",
    "print(b)\n",
    "c = 5 % 2 #取余\n",
    "print(c)\n",
    "d = 9 % -4 # 余数范围为0～除数，所以 9 % -4取余为 -3 而不是 1\n",
    "print(d)"
   ]
  }
 ],
 "metadata": {
  "kernelspec": {
   "display_name": "Python 3",
   "language": "python",
   "name": "python3"
  },
  "language_info": {
   "codemirror_mode": {
    "name": "ipython",
    "version": 3
   },
   "file_extension": ".py",
   "mimetype": "text/x-python",
   "name": "python",
   "nbconvert_exporter": "python",
   "pygments_lexer": "ipython3",
   "version": "3.6.3"
  }
 },
 "nbformat": 4,
 "nbformat_minor": 2
}
