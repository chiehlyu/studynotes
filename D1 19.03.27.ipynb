{
 "cells": [
  {
   "cell_type": "markdown",
   "metadata": {},
   "source": [
    "# D1 2019.03.27 \n",
    "- 学习变量"
   ]
  },
  {
   "cell_type": "code",
   "execution_count": 4,
   "metadata": {
    "scrolled": true
   },
   "outputs": [
    {
     "name": "stdout",
     "output_type": "stream",
     "text": [
      "hello world\n"
     ]
    }
   ],
   "source": [
    "print(\"hello world\")"
   ]
  },
  {
   "cell_type": "markdown",
   "metadata": {},
   "source": []
  },
  {
   "cell_type": "code",
   "execution_count": 8,
   "metadata": {
    "collapsed": true
   },
   "outputs": [],
   "source": [
    "#变量声明三种格式\n",
    "s1 = 12\n",
    "s1 = s2 = 12\n",
    "s1, s2, s3 = 12, 15, \"myself\""
   ]
  },
  {
   "cell_type": "markdown",
   "metadata": {},
   "source": [
    "# 变量类型\n",
    "- 数字Number, 字符串类型str, 列表list, 元祖tuple, 字典dict, 集合set"
   ]
  },
  {
   "cell_type": "markdown",
   "metadata": {},
   "source": [
    "# 数字类型Number\n",
    "- 整数\n",
    "  - 没有小数，包含正数、负数、0\n",
    "  - 二进制\n",
    "   - 表示方法：以0b开头的01串\n",
    "   - eg: 0b110\n",
    "  - 八进制\n",
    "   - 表示方法：以0o开头的0-7数字串\n",
    "   - eg: 0o65\n",
    "  - 十六进制\n",
    "   - 表示方法：0x开头的0-f串\n",
    "   - eg: 0x2a3d"
   ]
  },
  {
   "cell_type": "code",
   "execution_count": 12,
   "metadata": {},
   "outputs": [
    {
     "name": "stdout",
     "output_type": "stream",
     "text": [
      "6 53 10813\n"
     ]
    }
   ],
   "source": [
    "s1 = 0b110\n",
    "s2 = 0o65\n",
    "s3 = 0x2a3d\n",
    "print(s1, s2, s3)"
   ]
  }
 ],
 "metadata": {
  "kernelspec": {
   "display_name": "Python 3",
   "language": "python",
   "name": "python3"
  },
  "language_info": {
   "codemirror_mode": {
    "name": "ipython",
    "version": 3
   },
   "file_extension": ".py",
   "mimetype": "text/x-python",
   "name": "python",
   "nbconvert_exporter": "python",
   "pygments_lexer": "ipython3",
   "version": "3.6.3"
  }
 },
 "nbformat": 4,
 "nbformat_minor": 2
}
