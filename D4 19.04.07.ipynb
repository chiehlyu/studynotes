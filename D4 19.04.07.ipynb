{
 "cells": [
  {
   "cell_type": "markdown",
   "metadata": {},
   "source": [
    "# D4 19.04.07\n",
    "- 学习分支结构（单向分支、双向分支）"
   ]
  },
  {
   "cell_type": "markdown",
   "metadata": {},
   "source": [
    "## 单向分支\n",
    "- if 条件表达式:\n",
    "      语句1\n",
    "      语句2\n",
    "      ……\n",
    "  语句x\n",
    "\n",
    "- 条件表达式的结果必须为布尔值\n",
    "- 条件表达式结果为True,则执行分支语句12，按顺序结构执行语句x\n",
    "- 条件表达式结果为False,则不执行分支语句，按顺序结构执行语句x\n",
    "- 语句X为顺序结构，和if语句平级，无论条件成不成立都会执行"
   ]
  },
  {
   "cell_type": "markdown",
   "metadata": {},
   "source": [
    "- input()\n",
    "- 在屏幕上输出括号内的字符串\n",
    "- 接受用户输入的内容并返回到程序\n",
    "- input返回的一定是字符串信息"
   ]
  },
  {
   "cell_type": "code",
   "execution_count": 10,
   "metadata": {},
   "outputs": [
    {
     "name": "stdout",
     "output_type": "stream",
     "text": [
      "你的年龄是：26\n",
      "yes\n"
     ]
    }
   ],
   "source": [
    "a = input(\"你的年龄是：\")\n",
    "if a == \"26\":\n",
    "    print(\"yes\")\n",
    "else:\n",
    "    print(\"no\")"
   ]
  },
  {
   "cell_type": "code",
   "execution_count": 12,
   "metadata": {},
   "outputs": [
    {
     "name": "stdout",
     "output_type": "stream",
     "text": [
      "字符串有内容\n",
      "字符串为空\n"
     ]
    }
   ],
   "source": [
    "#字符串里有内容，则为True,如果字符串为空，则为False\n",
    "# ”“为空字符串，”  “不是空字符串，里面有空格\n",
    "a = \"123\"\n",
    "if a:\n",
    "    print(\"字符串有内容\")\n",
    "b = \"\"\n",
    "if b:\n",
    "    print(\"字符串有内容\")\n",
    "else:\n",
    "    print(\"字符串为空\")"
   ]
  },
  {
   "cell_type": "code",
   "execution_count": 13,
   "metadata": {},
   "outputs": [
    {
     "name": "stdout",
     "output_type": "stream",
     "text": [
      "请输入你的年龄：18\n"
     ]
    },
    {
     "ename": "TypeError",
     "evalue": "'>=' not supported between instances of 'str' and 'int'",
     "output_type": "error",
     "traceback": [
      "\u001b[0;31m---------------------------------------------------------------------------\u001b[0m",
      "\u001b[0;31mTypeError\u001b[0m                                 Traceback (most recent call last)",
      "\u001b[0;32m<ipython-input-13-4e95411af39e>\u001b[0m in \u001b[0;36m<module>\u001b[0;34m()\u001b[0m\n\u001b[1;32m      1\u001b[0m \u001b[0;31m#错误案例，age的值为字符串，即输入的18为字符串类型，不是数字类型，>=不成立\u001b[0m\u001b[0;34m\u001b[0m\u001b[0;34m\u001b[0m\u001b[0m\n\u001b[1;32m      2\u001b[0m \u001b[0mage\u001b[0m \u001b[0;34m=\u001b[0m \u001b[0minput\u001b[0m\u001b[0;34m(\u001b[0m\u001b[0;34m\"请输入你的年龄：\"\u001b[0m\u001b[0;34m)\u001b[0m\u001b[0;34m\u001b[0m\u001b[0m\n\u001b[0;32m----> 3\u001b[0;31m \u001b[0;32mif\u001b[0m \u001b[0mage\u001b[0m \u001b[0;34m>=\u001b[0m \u001b[0;36m18\u001b[0m\u001b[0;34m:\u001b[0m\u001b[0;34m\u001b[0m\u001b[0m\n\u001b[0m\u001b[1;32m      4\u001b[0m     \u001b[0mprint\u001b[0m\u001b[0;34m(\u001b[0m\u001b[0;34m\"恭喜你成年了\"\u001b[0m\u001b[0;34m)\u001b[0m\u001b[0;34m\u001b[0m\u001b[0m\n\u001b[1;32m      5\u001b[0m     \u001b[0mprint\u001b[0m\u001b[0;34m(\u001b[0m\u001b[0;34m\"you gonna be freedom\"\u001b[0m\u001b[0;34m)\u001b[0m\u001b[0;34m\u001b[0m\u001b[0m\n",
      "\u001b[0;31mTypeError\u001b[0m: '>=' not supported between instances of 'str' and 'int'"
     ]
    }
   ],
   "source": [
    "#错误案例，age的值为字符串，即输入的18为字符串类型，不是数字类型，>=不成立\n",
    "age = input(\"请输入你的年龄：\")\n",
    "if age >= 18:\n",
    "    print(\"恭喜你成年了\")\n",
    "    print(\"you gonna be freedom\")\n",
    "print(\"好好学习\")"
   ]
  },
  {
   "cell_type": "markdown",
   "metadata": {},
   "source": [
    "## 双向分支\n",
    "- if 条件表达式:\n",
    "      语句1\n",
    "      语句2\n",
    "      ……\n",
    "  else:\n",
    "      语句3\n",
    "      语句4\n",
    "      ……\n",
    "  语句x\n",
    "\n",
    "- 条件表达式的结果必须为布尔值\n",
    "- 条件表达式结果为True,则执行分支后按顺序结构执行语句x\n",
    "- 条件表达式结果为False,则执行分支后按顺序结构执行语句x"
   ]
  },
  {
   "cell_type": "code",
   "execution_count": 5,
   "metadata": {},
   "outputs": [
    {
     "name": "stdout",
     "output_type": "stream",
     "text": [
      "请输入你的成绩：2\n",
      "不及格\n"
     ]
    }
   ],
   "source": [
    "grade = input(\"请输入你的成绩：\")\n",
    "if grade == \"90以上\":\n",
    "    print(\"优秀\")\n",
    "if grade == \"80-90\":\n",
    "    print(\"良好\")\n",
    "if grade == \"60-79\":\n",
    "    print(\"及格\")\n",
    "else:\n",
    "    print(\"不及格\")\n"
   ]
  },
  {
   "cell_type": "code",
   "execution_count": 9,
   "metadata": {},
   "outputs": [
    {
     "name": "stdout",
     "output_type": "stream",
     "text": [
      "90以上\n"
     ]
    }
   ],
   "source": [
    "a = \"90以上\"\n",
    "print(a)"
   ]
  },
  {
   "cell_type": "code",
   "execution_count": null,
   "metadata": {
    "collapsed": true
   },
   "outputs": [],
   "source": []
  }
 ],
 "metadata": {
  "kernelspec": {
   "display_name": "Python 3",
   "language": "python",
   "name": "python3"
  },
  "language_info": {
   "codemirror_mode": {
    "name": "ipython",
    "version": 3
   },
   "file_extension": ".py",
   "mimetype": "text/x-python",
   "name": "python",
   "nbconvert_exporter": "python",
   "pygments_lexer": "ipython3",
   "version": "3.6.3"
  }
 },
 "nbformat": 4,
 "nbformat_minor": 2
}
