{
 "cells": [
  {
   "cell_type": "markdown",
   "metadata": {},
   "source": [
    "# D3 19.03.31"
   ]
  },
  {
   "cell_type": "code",
   "execution_count": 1,
   "metadata": {},
   "outputs": [
    {
     "name": "stdout",
     "output_type": "stream",
     "text": [
      "9\n"
     ]
    }
   ],
   "source": [
    "# ** 代表指数\n",
    "a = 3 ** 2\n",
    "print(a)"
   ]
  },
  {
   "cell_type": "markdown",
   "metadata": {},
   "source": [
    "## 比较运算符\n",
    "- ==, !=, >, >=, <, <="
   ]
  },
  {
   "cell_type": "markdown",
   "metadata": {},
   "source": [
    "## 赋值运算符\n",
    "- =， 把右边的全部内容计算完毕后，赋值给左边\n",
    "- 所有数学运算符都可以缩写，+=, -=, *=, /=, //=, %=, **=\n",
    "- python里面没有 ++， -- 自增自减"
   ]
  },
  {
   "cell_type": "code",
   "execution_count": 4,
   "metadata": {},
   "outputs": [
    {
     "name": "stdout",
     "output_type": "stream",
     "text": [
      "1 2 3\n",
      "3\n",
      "3\n"
     ]
    }
   ],
   "source": [
    "a = 1\n",
    "b, c = 2, 3\n",
    "print(a,b,c)\n",
    "\n",
    "#缩写示意\n",
    "a = 1\n",
    "a = a +2\n",
    "print(a)\n",
    "\n",
    "a = 1\n",
    "a += 2  # += 完全等同与 a = a +2\n",
    "print(a)"
   ]
  },
  {
   "cell_type": "markdown",
   "metadata": {},
   "source": [
    "## 逻辑运算符\n",
    "- 对布尔值进行运算\n",
    "- and 逻辑与\n",
    "- or  逻辑或\n",
    "- not 逻辑非\n",
    "- 运算中，and等同乘法*，or等同加法+，True看做1，False看做0，计算结果为Ture/False\n",
    "- Python中没有异或\n",
    "- 有其他数字加入的逻辑运算中，0表示False，其他数字表示True\n",
    "- 短路，当运算途中已经能得到一个确定的结果时，计算终止，并直接输出结果-\n",
    "  - 下面的逻辑表达式，a的值一定是True，则运行到or的时候，整个表达式不在向下计算\n",
    "  - a = True or xxxxxxxxxxx"
   ]
  },
  {
   "cell_type": "code",
   "execution_count": 13,
   "metadata": {},
   "outputs": [
    {
     "name": "stdout",
     "output_type": "stream",
     "text": [
      "2 1\n",
      "True True\n",
      "True\n"
     ]
    }
   ],
   "source": [
    "a = 1\n",
    "b = 2\n",
    "s1 = a and b\n",
    "s2 = a or b\n",
    "print(s1,s2)\n",
    "\n",
    "a = True\n",
    "b = True\n",
    "c = False\n",
    "s1 = a and b\n",
    "s2 = a or c\n",
    "print(s1,s2)\n",
    "\n",
    "s3 = 50 and a  #逻辑运算中，0表示False，其他数字表示True\n",
    "print(s3)\n",
    "\n",
    "#短路问题\n",
    "a = True\n",
    "b = True\n",
    "c = False\n",
    "s4 = a or b and (a or c) #执行到a or...时，or为加法，结果肯定不为0，输出True"
   ]
  },
  {
   "cell_type": "markdown",
   "metadata": {},
   "source": [
    "## 成员运算符\n",
    "- 用于检测一个值或者变量是否在某个集合里\n",
    "- in, not in "
   ]
  },
  {
   "cell_type": "code",
   "execution_count": 14,
   "metadata": {},
   "outputs": [
    {
     "name": "stdout",
     "output_type": "stream",
     "text": [
      "False True\n"
     ]
    }
   ],
   "source": [
    "a = [1,2,3,4,5]\n",
    "b = 6\n",
    "s1 = b in a\n",
    "s2 = b not in a\n",
    "print(s1,s2)"
   ]
  },
  {
   "cell_type": "markdown",
   "metadata": {},
   "source": [
    "## 身份运算符\n",
    "- 用来确认两个 变量 是否为同一变量，要注意，变量的值相同，不代表变量相同\n",
    "- is, not is\n",
    "- 注意，python专门为整数[-5, 256] 分配了特定内存，所以is运算可能返回True"
   ]
  },
  {
   "cell_type": "code",
   "execution_count": 8,
   "metadata": {},
   "outputs": [
    {
     "name": "stdout",
     "output_type": "stream",
     "text": [
      "False\n",
      "False\n",
      "True\n"
     ]
    }
   ],
   "source": [
    "# a,b变量的值相同，但是a，b不是同一个变量，用了2块不同的内存来存储值\n",
    "a = 12345\n",
    "b = 12345\n",
    "aa = a is b\n",
    "print(aa)\n",
    "\n",
    "a = 1\n",
    "b = 12345\n",
    "aa = a is b\n",
    "print(aa)\n",
    "\n",
    "#当值属于[-5,256]时，a,b变量只是指向了同一块存放值的内存，是同一个变量\n",
    "a = 5\n",
    "b = 5\n",
    "aa = a is b\n",
    "print(aa)"
   ]
  },
  {
   "cell_type": "markdown",
   "metadata": {},
   "source": [
    "## 运算优先级\n",
    "- 括号最优先\n",
    "- 优先级表格\n",
    "\n",
    "       **  指数 (最高优先级)\n",
    "      ~ + -   按位翻转, 一元加号和减号 (最后两个的方法名为 +@ 和 -@)\n",
    "      * / % //    乘，除，取模和取整除\n",
    "      + - 加法减法\n",
    "      >> <<   右移，左移运算符\n",
    "      &   位 'AND'\n",
    "      ^ | 位运算符\n",
    "      <= < > >=   比较运算符\n",
    "      <> == !=    等于运算符\n",
    "      = %= /= //= -= += *= **=    赋值运算符\n",
    "      is is not   身份运算符\n",
    "      in not in   成员运算符\n",
    "      not or and  逻辑运算符"
   ]
  }
 ],
 "metadata": {
  "kernelspec": {
   "display_name": "Python 3",
   "language": "python",
   "name": "python3"
  },
  "language_info": {
   "codemirror_mode": {
    "name": "ipython",
    "version": 3
   },
   "file_extension": ".py",
   "mimetype": "text/x-python",
   "name": "python",
   "nbconvert_exporter": "python",
   "pygments_lexer": "ipython3",
   "version": "3.6.3"
  }
 },
 "nbformat": 4,
 "nbformat_minor": 2
}
